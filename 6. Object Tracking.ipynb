{
 "cells": [
  {
   "cell_type": "markdown",
   "metadata": {},
   "source": [
    "## Optical Flow"
   ]
  },
  {
   "cell_type": "code",
   "execution_count": 1,
   "metadata": {},
   "outputs": [],
   "source": [
    "import cv2\n",
    "import numpy as np\n",
    "import matplotlib.pyplot as plt"
   ]
  },
  {
   "cell_type": "markdown",
   "metadata": {},
   "source": [
    "#### Optical Flow with OpenCV"
   ]
  },
  {
   "cell_type": "code",
   "execution_count": 2,
   "metadata": {},
   "outputs": [],
   "source": [
    "corner_track_params = dict(maxCorners = 10, qualityLevel=0.3,minDistance=7, blockSize=7)"
   ]
  },
  {
   "cell_type": "code",
   "execution_count": 3,
   "metadata": {},
   "outputs": [],
   "source": [
    "lk_params = dict(winSize=(200,200),maxLevel = 2, criteria = (cv2.TERM_CRITERIA_EPS | cv2.TERM_CRITERIA_COUNT,10,0.03))\n",
    "# winSize = smaller means more sensitive to noise & may miss larger motions\n",
    "# winSize = larger means not sensitive to subtle motions\n",
    "# maxLevel = lucas-kanade method can use pyramid for its analysis so maxLevel=0 means just use original image\n",
    "# read more: https://en.wikipedia.org/wiki/Pyramid_(image_processing)\n",
    "# you can adjust TERM_CRITERIA_COUNT for exchanging speed for accuracy (10, 0.03 is pretty good default)"
   ]
  },
  {
   "cell_type": "code",
   "execution_count": 4,
   "metadata": {},
   "outputs": [],
   "source": [
    "# cap = cv2.VideoCapture(0)\n",
    "\n",
    "# ret , prev_frame = cap.read()\n",
    "# # read the very first frame and treated it as previous frame\n",
    "\n",
    "# prev_gray = cv2.cvtColor(prev_frame,cv2.COLOR_BGR2GRAY)\n",
    "# # grayscale\n",
    "\n",
    "# # POITNS TO TRACK\n",
    "# prevPts = cv2.goodFeaturesToTrack(prev_gray,mask=None,**corner_track_params)\n",
    "# # ** allows you to use dictionary into a function call\n",
    "\n",
    "# mask = np.zeros_like(prev_frame)\n",
    "# # has more to do with drawing lines onto the video than tracking points\n",
    "# # np.zeros_like == cretae numpy array of 0 to the one that having same shape as prev_frame\n",
    "\n",
    "# while True:\n",
    "    \n",
    "#     ret , frame = cap.read()\n",
    "    \n",
    "#     frame_gray = cv2.cvtColor(frame,cv2.COLOR_BGR2GRAY)\n",
    "    \n",
    "#     nextPts , status, err = cv2.calcOpticalFlowPyrLK(prev_gray,frame_gray,prevPts,None,**lk_params)\n",
    "#     # previous frame = prev_gray\n",
    "#     # current frame = frame_gray\n",
    "#     # previous points = prevPts\n",
    "#     # next points = None\n",
    "#     # params = lk_params\n",
    "    \n",
    "#     good_new = nextPts[status==1]\n",
    "#     good_prev = prevPts[status==1]\n",
    "#     # basically matches them up based on the index location\n",
    "#     # remember the status vector is set to 1 if the flow for corresponding feature has been found\n",
    "#     # essentially connecting where the previous points were to next points\n",
    "    \n",
    "#     for i, (new,prev) in enumerate(zip(good_new,good_prev)):\n",
    "        \n",
    "#         x_new, y_new = new.ravel()\n",
    "#         # ravel same as reshape(-1, order=order(keep the current order))\n",
    "        \n",
    "#         x_prev, y_prev = prev.ravel()\n",
    "        \n",
    "#         mask = cv2.line(mask,(int(x_new),int(y_new)),(int(x_prev),int(y_prev)),(0,255,0),3)\n",
    "#         # change to int\n",
    "        \n",
    "#         frame = cv2.circle(frame,(int(x_new),int(y_new)),8,(0,0,255),-1)\n",
    "#         # change to int\n",
    "        \n",
    "#     img = cv2.add(frame,mask)\n",
    "#     cv2.imshow('tracking', img)\n",
    "    \n",
    "#     k = cv2.waitKey(30) & 0xFF\n",
    "#     if k == 27:\n",
    "#         break\n",
    "        \n",
    "#     prev_gray = frame_gray.copy()\n",
    "#     prevPts = good_new.reshape(-1,1,2)\n",
    "    \n",
    "# cv2.destroyAllWindows()\n",
    "# cap.release()"
   ]
  },
  {
   "cell_type": "markdown",
   "metadata": {},
   "source": [
    "## Optical Flow Coding with OpenCV - Part Two"
   ]
  },
  {
   "cell_type": "code",
   "execution_count": 5,
   "metadata": {},
   "outputs": [],
   "source": [
    "import cv2\n",
    "import numpy as np"
   ]
  },
  {
   "cell_type": "markdown",
   "metadata": {},
   "source": [
    "#### Dense Optical Flow"
   ]
  },
  {
   "cell_type": "code",
   "execution_count": 6,
   "metadata": {},
   "outputs": [],
   "source": [
    "# cap = cv2.VideoCapture(0)\n",
    "\n",
    "# ret, frame1 = cap.read()\n",
    "\n",
    "# prvsImg = cv2.cvtColor(frame1, cv2.COLOR_BGR2GRAY)\n",
    "\n",
    "# hsv_mask = np.zeros_like(frame1)\n",
    "# hsv_mask[:,:,1] = 255\n",
    "\n",
    "# while True:\n",
    "    \n",
    "#     ret, frame2 = cap.read()\n",
    "    \n",
    "#     if ret==False:\n",
    "#         continue\n",
    "    \n",
    "#     nextImg = cv2.cvtColor(frame2, cv2.COLOR_BGR2GRAY)\n",
    "    \n",
    "#     # calculate optical flow\n",
    "#     flow = cv2.calcOpticalFlowFarneback(prev=prvsImg,\n",
    "#                                         next=nextImg, flow=None,\n",
    "#                                         pyr_scale=0.5, levels=3, winsize=15,\n",
    "#                                         iterations=3, poly_n=5, poly_sigma=1.2,\n",
    "#                                         flags=0)\n",
    "    \n",
    "#     mag, ang = cv2.cartToPolar(flow[:,:,0], flow[:,:,1], angleInDegrees=True)\n",
    "#     # convert flow to polar coordinates\n",
    "    \n",
    "#     hsv_mask[:,:,0] = ang/2\n",
    "    \n",
    "#     hsv_mask[:,:,2] = cv2.normalize(mag, None, 0, 255, cv2.NORM_MINMAX)\n",
    "    \n",
    "#     bgr = cv2.cvtColor(hsv_mask, cv2.COLOR_HSV2BGR)\n",
    "#     cv2.imshow('frame', bgr)\n",
    "    \n",
    "#     k = cv2.waitKey(10) & 0xFF\n",
    "#     if k == 27:\n",
    "#         break\n",
    "        \n",
    "#     prvsImg = nextImg\n",
    "    \n",
    "# cap.release()\n",
    "# cv2.destroyAllWindows()"
   ]
  },
  {
   "cell_type": "markdown",
   "metadata": {},
   "source": [
    "## MeanShift and CamShift Tracking"
   ]
  },
  {
   "cell_type": "code",
   "execution_count": 7,
   "metadata": {},
   "outputs": [],
   "source": [
    "import numpy as np\n",
    "import cv2"
   ]
  },
  {
   "cell_type": "code",
   "execution_count": 10,
   "metadata": {},
   "outputs": [],
   "source": [
    "# cap = cv2.VideoCapture(0)\n",
    "\n",
    "# # grab frame data\n",
    "# ret, frame = cap.read()\n",
    "\n",
    "# # setup initial tracking window\n",
    "\n",
    "# face_cascade = cv2.CascadeClassifier('DATA/haarcascades/haarcascade_frontalface_default.xml')\n",
    "# face_rects = face_cascade.detectMultiScale(frame)\n",
    "\n",
    "# (face_x,face_y,w,h) = tuple(face_rects[0])\n",
    "# track_window = (face_x,face_y,w,h)\n",
    "\n",
    "# # setup roi\n",
    "# roi = frame[face_y:face_y+h,face_x:face_x+w]\n",
    "\n",
    "# hsv_roi = cv2.cvtColor(roi,cv2.COLOR_BGR2HSV)\n",
    "\n",
    "# roi_hist = cv2.calcHist([hsv_roi],[0],None,[180],[0,180])\n",
    "\n",
    "# cv2.normalize(roi_hist,roi_hist,0,255,cv2.NORM_MINMAX)\n",
    "\n",
    "# term_crit = (cv2.TERM_CRITERIA_EPS | cv2.TERM_CRITERIA_COUNT,10,1)\n",
    "\n",
    "# while True:\n",
    "    \n",
    "#     ret, frame = cap.read()\n",
    "    \n",
    "#     if ret == True:\n",
    "        \n",
    "#         hsv = cv2.cvtColor(frame,cv2.COLOR_BGR2HSV)\n",
    "        \n",
    "#         dst = cv2.calcBackProject([hsv],[0],roi_hist,[0,180],1)\n",
    "        \n",
    "#         ###############################################################\n",
    "#         ret, track_window = cv2.meanShift(dst,track_window,term_crit)\n",
    "        \n",
    "#         x,y,w,h = track_window\n",
    "#         img2 = cv2.rectangle(frame,(x,y),(x+w,y+h),(0,0,255),5)\n",
    "#         ###############################################################\n",
    "        \n",
    "#         cv2.imshow('img',img2)\n",
    "        \n",
    "#         k = cv2.waitKey(1) & 0xFF\n",
    "#         if k == 27:\n",
    "#             break\n",
    "#     else:\n",
    "#         break\n",
    "        \n",
    "# cv2.destroyAllWindows()\n",
    "# cap.release()"
   ]
  },
  {
   "cell_type": "markdown",
   "metadata": {},
   "source": [
    "#### CamShift Version"
   ]
  },
  {
   "cell_type": "code",
   "execution_count": 11,
   "metadata": {},
   "outputs": [],
   "source": [
    "# cap = cv2.VideoCapture(0)\n",
    "\n",
    "# # grab frame data\n",
    "# ret, frame = cap.read()\n",
    "\n",
    "# # setup initial tracking window\n",
    "\n",
    "# face_cascade = cv2.CascadeClassifier('DATA/haarcascades/haarcascade_frontalface_default.xml')\n",
    "# face_rects = face_cascade.detectMultiScale(frame)\n",
    "\n",
    "# (face_x,face_y,w,h) = tuple(face_rects[0])\n",
    "# track_window = (face_x,face_y,w,h)\n",
    "\n",
    "# # setup roi\n",
    "# roi = frame[face_y:face_y+h,face_x:face_x+w]\n",
    "\n",
    "# hsv_roi = cv2.cvtColor(roi,cv2.COLOR_BGR2HSV)\n",
    "\n",
    "# roi_hist = cv2.calcHist([hsv_roi],[0],None,[180],[0,180])\n",
    "\n",
    "# cv2.normalize(roi_hist,roi_hist,0,255,cv2.NORM_MINMAX)\n",
    "\n",
    "# term_crit = (cv2.TERM_CRITERIA_EPS | cv2.TERM_CRITERIA_COUNT,10,1)\n",
    "\n",
    "# while True:\n",
    "    \n",
    "#     ret, frame = cap.read()\n",
    "    \n",
    "#     if ret == True:\n",
    "        \n",
    "#         hsv = cv2.cvtColor(frame,cv2.COLOR_BGR2HSV)\n",
    "        \n",
    "#         dst = cv2.calcBackProject([hsv],[0],roi_hist,[0,180],1)\n",
    "        \n",
    "#         ###############################################################\n",
    "#         ret, track_window = cv2.CamShift(dst,track_window,term_crit)\n",
    "        \n",
    "#         pts = cv2.boxPoints(ret)\n",
    "#         pts = np.int0(pts)\n",
    "#         img2 = cv2.polylines(frame,[pts],True,(0,0,255),5)\n",
    "        \n",
    "#         ###############################################################\n",
    "        \n",
    "#         cv2.imshow('img',img2)\n",
    "        \n",
    "#         k = cv2.waitKey(1) & 0xFF\n",
    "#         if k == 27:\n",
    "#             break\n",
    "#     else:\n",
    "#         break\n",
    "        \n",
    "# cv2.destroyAllWindows()\n",
    "# cap.release()"
   ]
  },
  {
   "cell_type": "markdown",
   "metadata": {},
   "source": [
    "## Overview of Various Tracking API Methods"
   ]
  },
  {
   "cell_type": "markdown",
   "metadata": {},
   "source": [
    "#### Tracking APIs with OpenCV"
   ]
  },
  {
   "cell_type": "code",
   "execution_count": null,
   "metadata": {},
   "outputs": [],
   "source": [
    "import cv2"
   ]
  },
  {
   "cell_type": "code",
   "execution_count": null,
   "metadata": {},
   "outputs": [],
   "source": [
    "def ask_for_tracker():\n",
    "    print(\"Welcome! What Tracker API would you like to use?\")\n",
    "    print(\"Enter 0 for BOOSTING: \")\n",
    "    print(\"Enter 1 for MIL: \")\n",
    "    print(\"Enter 2 for KCF: \")\n",
    "    print(\"Enter 3 for TLD: \")\n",
    "    print(\"Enter 4 for MEDIANFLOW: \")\n",
    "    print(\"Enter 5 for MOSSE: \")\n",
    "    print(\"Enter 6 for CSRT: \")\n",
    "    choice = input(\"Please select your tracker: \")\n",
    "    \n",
    "    if choice == '0':\n",
    "        tracker = cv2.TrackerBoosting_create()\n",
    "    if choice == '1':\n",
    "        tracker = cv2.TrackerMIL_create()\n",
    "    if choice == '2':\n",
    "        tracker = cv2.TrackerKCF_create()\n",
    "    if choice == '3':\n",
    "        tracker = cv2.TrackerTLD_create()\n",
    "    if choice == '4':\n",
    "        tracker = cv2.legacy_TrackerMedianFlow.create()\n",
    "    if choice == '5':\n",
    "        tracker = cv2.legacy_TrackerMOSSE.create()\n",
    "    if choice == '6':\n",
    "        tracker = cv2.TrackerCSRT_create()\n",
    "\n",
    "\n",
    "    return tracker\n",
    " "
   ]
  },
  {
   "cell_type": "code",
   "execution_count": null,
   "metadata": {},
   "outputs": [],
   "source": [
    "tracker = ask_for_tracker()"
   ]
  },
  {
   "cell_type": "code",
   "execution_count": null,
   "metadata": {},
   "outputs": [],
   "source": [
    "tracker"
   ]
  },
  {
   "cell_type": "code",
   "execution_count": null,
   "metadata": {},
   "outputs": [],
   "source": [
    "str(tracker).split()[0][1:]"
   ]
  },
  {
   "cell_type": "code",
   "execution_count": null,
   "metadata": {},
   "outputs": [],
   "source": [
    "# str(tracker).split()[0][1:]"
   ]
  },
  {
   "cell_type": "code",
   "execution_count": null,
   "metadata": {},
   "outputs": [],
   "source": [
    "tracker = ask_for_tracker()\n",
    "tracker_name = str(tracker).split()[0][1:]\n",
    "\n",
    "# Read video\n",
    "cap = cv2.VideoCapture(0)\n",
    "\n",
    "# Read first frame.\n",
    "ret, frame = cap.read()\n",
    "\n",
    "\n",
    "# Special function allows us to draw on the very first frame our desired ROI\n",
    "roi = cv2.selectROI(frame, False)\n",
    "\n",
    "# Initialize tracker with first frame and bounding box\n",
    "ret = tracker.init(frame, roi)\n",
    "\n",
    "while True:\n",
    "    # Read a new frame\n",
    "    ret, frame = cap.read()\n",
    "    \n",
    "    \n",
    "    # Update tracker\n",
    "    success, roi = tracker.update(frame)\n",
    "    \n",
    "    # roi variable is a tuple of 4 floats\n",
    "    # We need each value and we need them as integers\n",
    "    (x,y,w,h) = tuple(map(int,roi))\n",
    "    \n",
    "    # Draw Rectangle as Tracker moves\n",
    "    if success:\n",
    "        # Tracking success\n",
    "        p1 = (x, y)\n",
    "        p2 = (x+w, y+h)\n",
    "        cv2.rectangle(frame, p1, p2, (0,255,0), 3)\n",
    "    else :\n",
    "        # Tracking failure\n",
    "        cv2.putText(frame, \"Failure to Detect Tracking!!\", (100,200), cv2.FONT_HERSHEY_SIMPLEX, 1,(0,0,255),3)\n",
    "\n",
    "    # Display tracker type on frame\n",
    "    cv2.putText(frame, tracker_name, (20,400), cv2.FONT_HERSHEY_SIMPLEX, 1, (0,255,0),3);\n",
    "\n",
    "    # Display result\n",
    "    cv2.imshow(tracker_name, frame)\n",
    "\n",
    "    # Exit if ESC pressed\n",
    "    k = cv2.waitKey(1) & 0xff\n",
    "    if k == 27 : \n",
    "        break\n",
    "        \n",
    "cap.release()\n",
    "cv2.destroyAllWindows()"
   ]
  }
 ],
 "metadata": {
  "kernelspec": {
   "display_name": "Python 3",
   "language": "python",
   "name": "python3"
  },
  "language_info": {
   "codemirror_mode": {
    "name": "ipython",
    "version": 3
   },
   "file_extension": ".py",
   "mimetype": "text/x-python",
   "name": "python",
   "nbconvert_exporter": "python",
   "pygments_lexer": "ipython3",
   "version": "3.8.5"
  }
 },
 "nbformat": 4,
 "nbformat_minor": 4
}
